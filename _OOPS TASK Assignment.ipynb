{
 "cells": [
  {
   "cell_type": "code",
   "execution_count": 4,
   "id": "0286036f-a064-41b8-a26b-7ca76c54eec2",
   "metadata": {},
   "outputs": [],
   "source": [
    "#Q1\n",
    "class vehicle:\n",
    "    def __init__(self,name_of_vehicle, max_speed ,average_of_vehicle):\n",
    "        self.name_of_vehicle = name_of_vehicle\n",
    "        self.max_speed = max_speed\n",
    "        self.average_of_vehicle = average_of_vehicle"
   ]
  },
  {
   "cell_type": "code",
   "execution_count": 5,
   "id": "dfd0115b-5c16-4cde-ab4c-77e77c83823f",
   "metadata": {},
   "outputs": [],
   "source": [
    "#Q2\n",
    "class car(vehicle):\n",
    "    def seating_capacity(self,capacity):\n",
    "        return f\"{self.name_of_vehicle} has {capacity} seating capacity\""
   ]
  },
  {
   "cell_type": "code",
   "execution_count": 6,
   "id": "7cd4efe1-50f6-43d2-a0f7-66fb21536d63",
   "metadata": {},
   "outputs": [],
   "source": [
    "car_name = car(\"car_name\",220,22)"
   ]
  },
  {
   "cell_type": "code",
   "execution_count": 7,
   "id": "17d31d73-e323-4281-a32b-21c57d0eb176",
   "metadata": {},
   "outputs": [
    {
     "data": {
      "text/plain": [
       "'car_name has 6 seating capacity'"
      ]
     },
     "execution_count": 7,
     "metadata": {},
     "output_type": "execute_result"
    }
   ],
   "source": [
    "car_name.seating_capacity(6)"
   ]
  },
  {
   "cell_type": "markdown",
   "id": "d588164c-798c-4849-9d1e-a0a54b1a0787",
   "metadata": {},
   "source": [
    "#Q3\n",
    "Multiple inheritance is a feature of some object-oriented computer programming languages in which an object or class can inherit features from more than one parent object or parent class."
   ]
  },
  {
   "cell_type": "code",
   "execution_count": 8,
   "id": "b0bab8b7-8d05-4ae6-a565-0849e331f1ff",
   "metadata": {},
   "outputs": [],
   "source": [
    "class class1 :\n",
    "    def test_class1(self):\n",
    "        return \"this is a meth from class1\""
   ]
  },
  {
   "cell_type": "code",
   "execution_count": 9,
   "id": "57c1ae1e-1ee5-4a3a-b3f5-e06fe6493457",
   "metadata": {},
   "outputs": [],
   "source": [
    "class class2(class1) :\n",
    "    def test_class2(self):\n",
    "        return \"this is my meth from class 2\""
   ]
  },
  {
   "cell_type": "code",
   "execution_count": 10,
   "id": "89a661bb-89b9-4a4f-bd7c-d35c503cf806",
   "metadata": {},
   "outputs": [],
   "source": [
    "class class3(class2):\n",
    "    pass"
   ]
  },
  {
   "cell_type": "code",
   "execution_count": 11,
   "id": "716e8a75-4d72-4a62-9cf4-5b479a5dfa61",
   "metadata": {},
   "outputs": [],
   "source": [
    "obj_class3 = class3()"
   ]
  },
  {
   "cell_type": "code",
   "execution_count": 12,
   "id": "075a01c0-0af3-4378-be7b-ebad51085ffe",
   "metadata": {},
   "outputs": [
    {
     "data": {
      "text/plain": [
       "'this is a meth from class1'"
      ]
     },
     "execution_count": 12,
     "metadata": {},
     "output_type": "execute_result"
    }
   ],
   "source": [
    "obj_class3.test_class1()"
   ]
  },
  {
   "cell_type": "code",
   "execution_count": 13,
   "id": "005bbfdf-dab6-499b-9b74-a89091db1924",
   "metadata": {},
   "outputs": [
    {
     "data": {
      "text/plain": [
       "'this is my meth from class 2'"
      ]
     },
     "execution_count": 13,
     "metadata": {},
     "output_type": "execute_result"
    }
   ],
   "source": [
    "obj_class3.test_class2()"
   ]
  },
  {
   "cell_type": "markdown",
   "id": "485c43ee-915d-457b-aa9f-6d1e4af34d70",
   "metadata": {},
   "source": [
    "#Q4\n",
    "Getter: A method that allows you to access an attribute in a given class\n",
    "Setter: A method that allows you to set or mutate the value of an attribute in a class"
   ]
  },
  {
   "cell_type": "code",
   "execution_count": 14,
   "id": "d03082eb-ba7e-4bd9-8051-301a1446f04d",
   "metadata": {},
   "outputs": [],
   "source": [
    "class car:\n",
    "    def __init__(self , year , make , model , speed) :\n",
    "        self.__year = year\n",
    "        self.__make = make\n",
    "        self.__model = model\n",
    "        self.__speed = 0\n",
    "        \n",
    "        \n",
    "    def set_speed(self,speed):\n",
    "        self.__speed = 0 if speed < 0 else speed\n",
    "        \n",
    "    def get_speed(self)  :\n",
    "        return self.__speed"
   ]
  },
  {
   "cell_type": "code",
   "execution_count": 15,
   "id": "645edfad-4067-4ec3-ade7-3fbb50672b97",
   "metadata": {},
   "outputs": [],
   "source": [
    "c = car(1960,\"ford\", \"mustang\",6)"
   ]
  },
  {
   "cell_type": "code",
   "execution_count": 16,
   "id": "a5a48384-47ff-448d-b1a5-8c6eb1234372",
   "metadata": {},
   "outputs": [],
   "source": [
    "c.set_speed(300)"
   ]
  },
  {
   "cell_type": "code",
   "execution_count": 17,
   "id": "da2e5b0f-405e-43eb-8bab-7b876d82ed75",
   "metadata": {},
   "outputs": [
    {
     "data": {
      "text/plain": [
       "300"
      ]
     },
     "execution_count": 17,
     "metadata": {},
     "output_type": "execute_result"
    }
   ],
   "source": [
    "c.get_speed()"
   ]
  },
  {
   "cell_type": "markdown",
   "id": "e8544d5e-afc4-4447-bc0f-4d0facc72eb6",
   "metadata": {},
   "source": [
    "#Q5\n",
    "Method overriding is an ability of any object-oriented programming language that allows a subclass or child class to provide a specific implementation of a method that is already provided by one of its super-classes or parent classes. When a method in a subclass has the same name, same parameters or signature and same return type(or sub-type) as a method in its super-class, then the method in the subclass is said to override the method in the super-class."
   ]
  },
  {
   "cell_type": "code",
   "execution_count": 18,
   "id": "4fc67e38-8a6e-442b-b8d8-d40ef73bb99a",
   "metadata": {},
   "outputs": [],
   "source": [
    "class student:\n",
    "    def study(self):\n",
    "        print(\"students study for 6 hrs a day\")"
   ]
  },
  {
   "cell_type": "code",
   "execution_count": 19,
   "id": "96cfe659-b3e2-4d9c-9dc6-375adbdcf947",
   "metadata": {},
   "outputs": [],
   "source": [
    "class coder:\n",
    "    def code(self):\n",
    "        print(\"coders code for 6 hrs a day\")"
   ]
  },
  {
   "cell_type": "code",
   "execution_count": 21,
   "id": "50fc5090-d26e-4793-866a-24af1529a793",
   "metadata": {},
   "outputs": [],
   "source": [
    "a1 = student()"
   ]
  },
  {
   "cell_type": "code",
   "execution_count": 22,
   "id": "02349e28-8aee-4754-80fe-f7ec26fd6ec8",
   "metadata": {},
   "outputs": [],
   "source": [
    "a2 = coder()"
   ]
  },
  {
   "cell_type": "code",
   "execution_count": 23,
   "id": "5908809c-bd3c-4db4-9154-d9e004f0b5d9",
   "metadata": {},
   "outputs": [
    {
     "name": "stdout",
     "output_type": "stream",
     "text": [
      "students study for 6 hrs a day\n",
      "coders code for 6 hrs a day\n"
     ]
    }
   ],
   "source": [
    "a1.study()\n",
    "a2.code()"
   ]
  },
  {
   "cell_type": "code",
   "execution_count": null,
   "id": "03155f58-44f1-43ff-a71b-2fd3cdef4018",
   "metadata": {},
   "outputs": [],
   "source": []
  }
 ],
 "metadata": {
  "kernelspec": {
   "display_name": "Python 3 (ipykernel)",
   "language": "python",
   "name": "python3"
  },
  "language_info": {
   "codemirror_mode": {
    "name": "ipython",
    "version": 3
   },
   "file_extension": ".py",
   "mimetype": "text/x-python",
   "name": "python",
   "nbconvert_exporter": "python",
   "pygments_lexer": "ipython3",
   "version": "3.10.8"
  }
 },
 "nbformat": 4,
 "nbformat_minor": 5
}
